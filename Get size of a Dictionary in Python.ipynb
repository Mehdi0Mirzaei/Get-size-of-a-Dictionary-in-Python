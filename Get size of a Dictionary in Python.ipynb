{
 "cells": [
  {
   "cell_type": "code",
   "execution_count": 18,
   "id": "a0b7dd82",
   "metadata": {},
   "outputs": [
    {
     "name": "stdout",
     "output_type": "stream",
     "text": [
      "Size of dic1: 216bytes\n",
      "Size of dic2: 216bytes\n",
      "Size of dic3: 216bytes\n"
     ]
    }
   ],
   "source": [
    "# sample Dictionaries\n",
    "dic1 = {\"A\": 1, \"B\": 2, \"C\": 3}\n",
    "dic2 = {\"Geek1\": \"Raju\", \"Geek2\": \"Nikhil\", \"Geek3\": \"Deepanshu\"}\n",
    "dic3 = {1: \"Lion\", 2: \"Tiger\", 3: \"Fox\", 4: \"Wolf\"}\n",
    " \n",
    "# print the sizes of sample Dictionaries\n",
    "print(\"Size of dic1: \" + str(dic1.__sizeof__()) + \"bytes\")\n",
    "print(\"Size of dic2: \" + str(dic2.__sizeof__()) + \"bytes\")\n",
    "print(\"Size of dic3: \" + str(dic3.__sizeof__()) + \"bytes\")"
   ]
  },
  {
   "cell_type": "code",
   "execution_count": null,
   "id": "643723c8",
   "metadata": {},
   "outputs": [],
   "source": []
  }
 ],
 "metadata": {
  "kernelspec": {
   "display_name": "Python 3 (ipykernel)",
   "language": "python",
   "name": "python3"
  },
  "language_info": {
   "codemirror_mode": {
    "name": "ipython",
    "version": 3
   },
   "file_extension": ".py",
   "mimetype": "text/x-python",
   "name": "python",
   "nbconvert_exporter": "python",
   "pygments_lexer": "ipython3",
   "version": "3.9.13"
  }
 },
 "nbformat": 4,
 "nbformat_minor": 5
}
